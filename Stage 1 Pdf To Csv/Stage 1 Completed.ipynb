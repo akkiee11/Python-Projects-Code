{
 "cells": [
  {
   "cell_type": "code",
   "execution_count": 2,
   "metadata": {},
   "outputs": [
    {
     "name": "stdout",
     "output_type": "stream",
     "text": [
      "**************************************************Wait a Minute PDF is converted into CSV*******************************\n",
      "Congratulations...... Converted pdf to csv Succesfully........\n"
     ]
    }
   ],
   "source": [
    "import re\n",
    "import requests\n",
    "import pdfplumber\n",
    "import pandas as pd\n",
    "from collections import namedtuple\n",
    "\n",
    "Inv = namedtuple('Inv', ' ZIP_CODE STATE ADDRESS ')\n",
    "\n",
    "#Accessing Pdf File\n",
    "ap = 'Containment-Zones 5 May.pdf'\n",
    "print(\"**************************************************Wait a Minute PDF is converted into CSV*******************************\")\n",
    "lines = []\n",
    "line_items=[]\n",
    "total_check = 0\n",
    "\n",
    "with pdfplumber.open(ap) as pdf:\n",
    "    pages = pdf.pages\n",
    "    for page in pdf.pages:\n",
    "        text = page.extract_text()\n",
    "        patt=re.compile(r'([A-Z]*) (\\d[0-9]*) (\\d{6}) (\\w)*')\n",
    "        for line in text.split('\\n'):\n",
    "                if patt.match(line):\n",
    "                    ADDRESS=line\n",
    "                    STATE=\"Maharastra\"\n",
    "                    \n",
    "                line= patt.search(line)\n",
    "                if line:\n",
    "                    ZIP_CODE=line.group(3)\n",
    "                    line_items.append(Inv(ZIP_CODE,STATE,ADDRESS))\n",
    "                    df=pd.DataFrame(line_items)\n",
    "                    df.head()\n",
    "                    df.to_csv('Containment-Zones5May.csv') #Conversion Is Completed..\n",
    "                               \n",
    "                    \n",
    "print(\"Congratulations...... Converted pdf to csv Succesfully........\")                    \n",
    "                    \n",
    "                    \n",
    "                        "
   ]
  },
  {
   "cell_type": "code",
   "execution_count": null,
   "metadata": {},
   "outputs": [],
   "source": []
  },
  {
   "cell_type": "code",
   "execution_count": null,
   "metadata": {},
   "outputs": [],
   "source": []
  },
  {
   "cell_type": "code",
   "execution_count": null,
   "metadata": {},
   "outputs": [],
   "source": []
  },
  {
   "cell_type": "code",
   "execution_count": null,
   "metadata": {},
   "outputs": [],
   "source": []
  },
  {
   "cell_type": "code",
   "execution_count": null,
   "metadata": {},
   "outputs": [],
   "source": []
  },
  {
   "cell_type": "code",
   "execution_count": null,
   "metadata": {},
   "outputs": [],
   "source": []
  }
 ],
 "metadata": {
  "kernelspec": {
   "display_name": "Python 3",
   "language": "python",
   "name": "python3"
  },
  "language_info": {
   "codemirror_mode": {
    "name": "ipython",
    "version": 3
   },
   "file_extension": ".py",
   "mimetype": "text/x-python",
   "name": "python",
   "nbconvert_exporter": "python",
   "pygments_lexer": "ipython3",
   "version": "3.7.1"
  }
 },
 "nbformat": 4,
 "nbformat_minor": 2
}
