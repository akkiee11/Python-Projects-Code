{
 "cells": [
  {
   "cell_type": "code",
   "execution_count": 14,
   "metadata": {},
   "outputs": [
    {
     "name": "stdout",
     "output_type": "stream",
     "text": [
      "**************************************************Wait a Minute PDF is converted into CSV*******************************\n",
      "Congratulations...... Converted pdf to csv Succesfully........\n"
     ]
    }
   ],
   "source": [
    "import re\n",
    "import requests\n",
    "import pdfplumber\n",
    "import pandas as pd\n",
    "from collections import namedtuple\n",
    "\n",
    "Inv = namedtuple('Inv', 'name STATE ZIP_CODE')\n",
    "\n",
    "#Accessing Pdf File\n",
    "ap = 'Containment-Zones 4 May.pdf'\n",
    "print(\"**************************************************Wait a Minute PDF is converted into CSV*******************************\")\n",
    "lines = []\n",
    "line_items=[]\n",
    "total_check = 0\n",
    "\n",
    "with pdfplumber.open(ap) as pdf:\n",
    "    pages = pdf.pages\n",
    "    for page in pdf.pages:\n",
    "        text = page.extract_text()\n",
    "        patt=re.compile(r'([A-Z]*) (\\d[0-9]*) (\\d{6}) (\\w)*')\n",
    "        for line in text.split('\\n'):\n",
    "                if patt.match(line):\n",
    "                    name=line\n",
    "                    STATE=\"Maharastra\"\n",
    "                    \n",
    "                line= patt.search(line)\n",
    "                if line:\n",
    "                    ZIP_CODE=line.group(3)\n",
    "                    line_items.append(Inv(name,STATE,ZIP_CODE))\n",
    "                    df=pd.DataFrame(line_items)\n",
    "                    df.head()\n",
    "                    df.to_csv('Containment-Zones 4 May.csv') #Conversion Is Completed..\n",
    "                               \n",
    "                    \n",
    "print(\"Congratulations...... Converted pdf to csv Succesfully........\")                    \n",
    "                    \n",
    "                    \n",
    "                        "
   ]
  },
  {
   "cell_type": "code",
   "execution_count": null,
   "metadata": {},
   "outputs": [],
   "source": []
  },
  {
   "cell_type": "code",
   "execution_count": null,
   "metadata": {},
   "outputs": [],
   "source": [
    "import re\n",
    "import requests\n",
    "import pdfplumber\n",
    "import pandas as pd\n",
    "from collections import namedtuple\n"
   ]
  },
  {
   "cell_type": "code",
   "execution_count": null,
   "metadata": {},
   "outputs": [],
   "source": [
    "Inv = namedtuple('Inv', 'name STATE')\n",
    "\n",
    "#Accessing Pdf File\n",
    "ap = 'Containment-Zones 4 May.pdf'\n",
    "\n",
    "patt=re.compile(r'([A-Z]*) (\\d[0-9]*) (\\d{6}) (\\w)*')\n"
   ]
  },
  {
   "cell_type": "code",
   "execution_count": null,
   "metadata": {},
   "outputs": [],
   "source": [
    "with pdfplumber.open(ap) as pdf:\n",
    "    pages = pdf.pages\n",
    "    for page in pdf.pages:\n",
    "        text = page.extract_text()"
   ]
  },
  {
   "cell_type": "code",
   "execution_count": null,
   "metadata": {},
   "outputs": [],
   "source": [
    "for line in text.split('\\n'):\n",
    "    line= patt.search(line)\n",
    "    if line:\n",
    "        \n",
    "        print(line.group(3))"
   ]
  },
  {
   "cell_type": "code",
   "execution_count": null,
   "metadata": {},
   "outputs": [],
   "source": []
  }
 ],
 "metadata": {
  "kernelspec": {
   "display_name": "Python 3",
   "language": "python",
   "name": "python3"
  },
  "language_info": {
   "codemirror_mode": {
    "name": "ipython",
    "version": 3
   },
   "file_extension": ".py",
   "mimetype": "text/x-python",
   "name": "python",
   "nbconvert_exporter": "python",
   "pygments_lexer": "ipython3",
   "version": "3.7.1"
  }
 },
 "nbformat": 4,
 "nbformat_minor": 2
}
