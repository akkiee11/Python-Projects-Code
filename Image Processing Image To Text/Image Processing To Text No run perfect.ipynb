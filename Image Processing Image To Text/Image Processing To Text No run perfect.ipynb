{
 "cells": [
  {
   "cell_type": "code",
   "execution_count": 3,
   "metadata": {},
   "outputs": [],
   "source": [
    "from wand.image import Image as Img\n",
    "with Img(filename=\"akshay.pdf\", resolution=300) as img:\n",
    "    img.compression_quality = 99\n",
    "    img.save(filename=\"sample_scan.jpg\")"
   ]
  },
  {
   "cell_type": "code",
   "execution_count": 6,
   "metadata": {},
   "outputs": [],
   "source": [
    "from PIL import Image\n",
    "import pytesseract\n",
    "import cv2"
   ]
  },
  {
   "cell_type": "code",
   "execution_count": 19,
   "metadata": {},
   "outputs": [
    {
     "name": "stdout",
     "output_type": "stream",
     "text": [
      "1 <w PP 6 Shubhlaxmi so 20 m DP Rd Gholai Nagar Slum Margeshwar so\n",
      "2 j Janaki Matishree nagar Shastri Nagar Pipeline Road Creek\n",
      "3 itiohalla .Kalwa Vishwakarma chawl Thane Belapurroad |Mayur Apartment Kabrasthan\n",
      "4 Jay Mahadev chawl Mangal chawl Public toilet Sherawali Mandir\n",
      "5 a eee Chawl Madarsa Chawl Chawl\n",
      "6 . Thane Belapur road Nahubhai Apartment |Vitava Jakat Naka aint ane eax\n",
      "7 Diptesh Niwas,Vitava Diksha Apartment Lucky Aprt Road Jamuna Chawl\n",
      "11 Bharat Coll Road kul G lex Road Maulana Azad Road\n",
      "12 Rite Open Plot jilani Park Road Haji Surme Marg MM Valley Masjid\n"
     ]
    }
   ],
   "source": [
    "# load the example image and convert it to grayscale\n",
    "import re\n",
    "import pytesseract as tess\n",
    "tess.pytesseract.tesseract_cmd=r'C:\\Program Files\\Tesseract-OCR\\tesseract.exe'\n",
    "\n",
    "from PIL import Image\n",
    "import pytesseract\n",
    "\n",
    "#No preprocessing required here as the results are fairly good.\n",
    "text = pytesseract.image_to_string(Image.open('sample_scan-0.jpg'))\n",
    "patt=re.compile(r'\\d[0-9]* (\\w)*')\n",
    "for line in text.split('\\n'):\n",
    "                    if patt.match(line):\n",
    "                                print(line)\n",
    "\n",
    "\n"
   ]
  },
  {
   "cell_type": "code",
   "execution_count": null,
   "metadata": {},
   "outputs": [],
   "source": []
  }
 ],
 "metadata": {
  "kernelspec": {
   "display_name": "Python 3",
   "language": "python",
   "name": "python3"
  },
  "language_info": {
   "codemirror_mode": {
    "name": "ipython",
    "version": 3
   },
   "file_extension": ".py",
   "mimetype": "text/x-python",
   "name": "python",
   "nbconvert_exporter": "python",
   "pygments_lexer": "ipython3",
   "version": "3.7.1"
  }
 },
 "nbformat": 4,
 "nbformat_minor": 2
}
